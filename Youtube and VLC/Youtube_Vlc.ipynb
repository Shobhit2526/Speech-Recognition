{
 "cells": [
  {
   "cell_type": "code",
   "execution_count": 1,
   "metadata": {},
   "outputs": [
    {
     "name": "stdout",
     "output_type": "stream",
     "text": [
      "Search Youtube video to play\n",
      "----------------------------\n",
      "Say Search to initiate \n",
      "Say what you want to search\n",
      "carryminati\n"
     ]
    }
   ],
   "source": [
    "#Import Necessary Libraries\n",
    "import speech_recognition as spr\n",
    "import webbrowser as wb\n",
    "import pafy\n",
    "import vlc\n",
    "import urllib.request\n",
    "from bs4 import BeautifulSoup\n",
    "import time\n",
    "\n",
    "#Create an empty list to store all the video URLs from the youtube.com page\n",
    "linklist = []\n",
    "\n",
    "#Create Recognizer() class objects called recog1 and recog2\n",
    "recog1 = spr.Recognizer()\n",
    "recog2 = spr.Recognizer()\n",
    "\n",
    "#Create microphone instance with device microphone chosen whose index value is 0\n",
    "mc = spr.Microphone(device_index=0)\n",
    "\n",
    "#Capture voice\n",
    "with mc as source:\n",
    "    print(\"Search Youtube video to play\")\n",
    "    print(\"----------------------------\")\n",
    "    print(\"Say Search to initiate \")\n",
    "    audio = recog1.listen(source)\n",
    "\n",
    "#Based on speech, open youtube search page in a browser, get the first video link and play it in VLC media player\n",
    "if 'search' in recog1.recognize_google(audio):\n",
    "    recog1 = spr.Recognizer()\n",
    "    url = 'https://www.youtube.com/results?search_query='\n",
    "    with mc as source:\n",
    "        print('Say what you want to search')\n",
    "        audio = recog2.listen(source)\n",
    "        \n",
    "        try:\n",
    "            get_keyword = recog1.recognize_google(audio)\n",
    "            print(get_keyword)\n",
    "            wb.get().open_new(url+get_keyword)\n",
    "            response = urllib.request.urlopen(url+get_keyword)\n",
    "            html = response.read()\n",
    "            soup = BeautifulSoup(html, 'html.parser')\n",
    "            for vid in soup.findAll(attrs={'class':'yt-uix-tile-link'}):\n",
    "                linklist.append('https://www.youtube.com' +vid['href'])\n",
    "            videolink = pafy.new(linklist[1])\n",
    "            bestlink = videolink.getbest()\n",
    "            media = vlc.MediaPlayer(bestlink.url)\n",
    "            media.play()\n",
    "#             time.sleep(60)\n",
    "#             media.stop()\n",
    "        except spr.UnknownValueError:\n",
    "            print(\"Unable to understand the input\")\n",
    "        except spr.RequestError as e:\n",
    "            print(\"Unable to provide required output\".format(e))\n"
   ]
  },
  {
   "cell_type": "code",
   "execution_count": 2,
   "metadata": {},
   "outputs": [],
   "source": [
    "media.stop()"
   ]
  }
 ],
 "metadata": {
  "kernelspec": {
   "display_name": "Python 3",
   "language": "python",
   "name": "python3"
  },
  "language_info": {
   "codemirror_mode": {
    "name": "ipython",
    "version": 3
   },
   "file_extension": ".py",
   "mimetype": "text/x-python",
   "name": "python",
   "nbconvert_exporter": "python",
   "pygments_lexer": "ipython3",
   "version": "3.7.7"
  }
 },
 "nbformat": 4,
 "nbformat_minor": 4
}
